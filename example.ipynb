{
 "cells": [
  {
   "cell_type": "code",
   "execution_count": null,
   "metadata": {},
   "outputs": [],
   "source": [
    "%load_ext autoreload\n",
    "%autoreload 2\n",
    "%env ANYWIDGET_HMR=1"
   ]
  },
  {
   "cell_type": "code",
   "execution_count": 21,
   "metadata": {},
   "outputs": [],
   "source": [
    "import os\n",
    "import pandas as pd\n",
    "\n",
    "from plotme import PlotMe\n",
    "\n",
    "OPENAI_KEY = os.getenv(\"OPENAI_API_KEY\")"
   ]
  },
  {
   "cell_type": "code",
   "execution_count": 17,
   "metadata": {},
   "outputs": [
    {
     "name": "stdout",
     "output_type": "stream",
     "text": [
      "  % Total    % Received % Xferd  Average Speed   Time    Time     Time  Current\n",
      "                                 Dload  Upload   Total   Spent    Left  Speed\n",
      "100  9127  100  9127    0     0   186k      0 --:--:-- --:--:-- --:--:--  189k\n"
     ]
    }
   ],
   "source": [
    "! curl https://raw.githubusercontent.com/nuwandavek/justplotit/master/world.csv -o sample_data.csv"
   ]
  },
  {
   "cell_type": "code",
   "execution_count": 19,
   "metadata": {},
   "outputs": [
    {
     "data": {
      "text/html": [
       "<div>\n",
       "<style scoped>\n",
       "    .dataframe tbody tr th:only-of-type {\n",
       "        vertical-align: middle;\n",
       "    }\n",
       "\n",
       "    .dataframe tbody tr th {\n",
       "        vertical-align: top;\n",
       "    }\n",
       "\n",
       "    .dataframe thead th {\n",
       "        text-align: right;\n",
       "    }\n",
       "</style>\n",
       "<table border=\"1\" class=\"dataframe\">\n",
       "  <thead>\n",
       "    <tr style=\"text-align: right;\">\n",
       "      <th></th>\n",
       "      <th>Country</th>\n",
       "      <th>Population density</th>\n",
       "      <th>GDP per capita</th>\n",
       "      <th>Population</th>\n",
       "      <th>Continent</th>\n",
       "    </tr>\n",
       "  </thead>\n",
       "  <tbody>\n",
       "    <tr>\n",
       "      <th>0</th>\n",
       "      <td>Afghanistan</td>\n",
       "      <td>51.750916</td>\n",
       "      <td>2108.7140</td>\n",
       "      <td>33753500.0</td>\n",
       "      <td>Asia</td>\n",
       "    </tr>\n",
       "    <tr>\n",
       "      <th>1</th>\n",
       "      <td>Albania</td>\n",
       "      <td>105.200070</td>\n",
       "      <td>11880.5980</td>\n",
       "      <td>2882482.0</td>\n",
       "      <td>Europe</td>\n",
       "    </tr>\n",
       "    <tr>\n",
       "      <th>2</th>\n",
       "      <td>Algeria</td>\n",
       "      <td>16.602623</td>\n",
       "      <td>11751.6340</td>\n",
       "      <td>39543148.0</td>\n",
       "      <td>Africa</td>\n",
       "    </tr>\n",
       "    <tr>\n",
       "      <th>3</th>\n",
       "      <td>Angola</td>\n",
       "      <td>22.561743</td>\n",
       "      <td>7967.1040</td>\n",
       "      <td>28127724.0</td>\n",
       "      <td>Africa</td>\n",
       "    </tr>\n",
       "    <tr>\n",
       "      <th>4</th>\n",
       "      <td>Antigua and Barbuda</td>\n",
       "      <td>204.450000</td>\n",
       "      <td>19345.0180</td>\n",
       "      <td>89958.0</td>\n",
       "      <td>North America</td>\n",
       "    </tr>\n",
       "    <tr>\n",
       "      <th>...</th>\n",
       "      <td>...</td>\n",
       "      <td>...</td>\n",
       "      <td>...</td>\n",
       "      <td>...</td>\n",
       "      <td>...</td>\n",
       "    </tr>\n",
       "    <tr>\n",
       "      <th>187</th>\n",
       "      <td>Uzbekistan</td>\n",
       "      <td>70.235825</td>\n",
       "      <td>6401.1150</td>\n",
       "      <td>30949416.0</td>\n",
       "      <td>Asia</td>\n",
       "    </tr>\n",
       "    <tr>\n",
       "      <th>188</th>\n",
       "      <td>Vanuatu</td>\n",
       "      <td>22.678425</td>\n",
       "      <td>2859.3496</td>\n",
       "      <td>276450.0</td>\n",
       "      <td>Oceania</td>\n",
       "    </tr>\n",
       "    <tr>\n",
       "      <th>189</th>\n",
       "      <td>Vietnam</td>\n",
       "      <td>294.138060</td>\n",
       "      <td>8091.0903</td>\n",
       "      <td>92191400.0</td>\n",
       "      <td>Asia</td>\n",
       "    </tr>\n",
       "    <tr>\n",
       "      <th>190</th>\n",
       "      <td>Zambia</td>\n",
       "      <td>21.856941</td>\n",
       "      <td>3365.3792</td>\n",
       "      <td>16248231.0</td>\n",
       "      <td>Africa</td>\n",
       "    </tr>\n",
       "    <tr>\n",
       "      <th>191</th>\n",
       "      <td>Zimbabwe</td>\n",
       "      <td>36.590250</td>\n",
       "      <td>2313.8787</td>\n",
       "      <td>14154937.0</td>\n",
       "      <td>Africa</td>\n",
       "    </tr>\n",
       "  </tbody>\n",
       "</table>\n",
       "<p>192 rows × 5 columns</p>\n",
       "</div>"
      ],
      "text/plain": [
       "                 Country  Population density  GDP per capita  Population  \\\n",
       "0            Afghanistan           51.750916       2108.7140  33753500.0   \n",
       "1                Albania          105.200070      11880.5980   2882482.0   \n",
       "2                Algeria           16.602623      11751.6340  39543148.0   \n",
       "3                 Angola           22.561743       7967.1040  28127724.0   \n",
       "4    Antigua and Barbuda          204.450000      19345.0180     89958.0   \n",
       "..                   ...                 ...             ...         ...   \n",
       "187           Uzbekistan           70.235825       6401.1150  30949416.0   \n",
       "188              Vanuatu           22.678425       2859.3496    276450.0   \n",
       "189              Vietnam          294.138060       8091.0903  92191400.0   \n",
       "190               Zambia           21.856941       3365.3792  16248231.0   \n",
       "191             Zimbabwe           36.590250       2313.8787  14154937.0   \n",
       "\n",
       "         Continent  \n",
       "0             Asia  \n",
       "1           Europe  \n",
       "2           Africa  \n",
       "3           Africa  \n",
       "4    North America  \n",
       "..             ...  \n",
       "187           Asia  \n",
       "188        Oceania  \n",
       "189           Asia  \n",
       "190         Africa  \n",
       "191         Africa  \n",
       "\n",
       "[192 rows x 5 columns]"
      ]
     },
     "execution_count": 19,
     "metadata": {},
     "output_type": "execute_result"
    }
   ],
   "source": [
    "df = pd.read_csv(\"sample_data.csv\")\n",
    "df"
   ]
  },
  {
   "cell_type": "code",
   "execution_count": 26,
   "metadata": {},
   "outputs": [
    {
     "data": {
      "application/vnd.jupyter.widget-view+json": {
       "model_id": "e449fbfda5e44b87b4fdd4b902b17352",
       "version_major": 2,
       "version_minor": 0
      },
      "text/plain": [
       "PlotMe(chat=[{'role': 'assistant', 'content': \"The dataframe (shape: (192, 5)) has columns: ['Country', 'Popul…"
      ]
     },
     "execution_count": 26,
     "metadata": {},
     "output_type": "execute_result"
    }
   ],
   "source": [
    "PlotMe(df, api_key=OPENAI_KEY)"
   ]
  },
  {
   "cell_type": "code",
   "execution_count": null,
   "metadata": {},
   "outputs": [],
   "source": []
  }
 ],
 "metadata": {
  "kernelspec": {
   "display_name": "Python 3 (ipykernel)",
   "language": "python",
   "name": "python3"
  },
  "language_info": {
   "codemirror_mode": {
    "name": "ipython",
    "version": 3
   },
   "file_extension": ".py",
   "mimetype": "text/x-python",
   "name": "python",
   "nbconvert_exporter": "python",
   "pygments_lexer": "ipython3",
   "version": "3.11.8"
  }
 },
 "nbformat": 4,
 "nbformat_minor": 4
}
